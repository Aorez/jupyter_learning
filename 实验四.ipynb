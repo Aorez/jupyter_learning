{
 "cells": [
  {
   "cell_type": "markdown",
   "metadata": {},
   "source": [
    "# 一.加载数据"
   ]
  },
  {
   "cell_type": "code",
   "execution_count": null,
   "metadata": {
    "scrolled": true
   },
   "outputs": [],
   "source": [
    "#1.加载处理数据所需要的库\n",
    "import pandas as pd  \n",
    "\n",
    "#2.读取数据文件\n",
    "df = pd.read_excel('order2019.xlsx',index_col='id')\n",
    " #104557行 "
   ]
  },
  {
   "cell_type": "code",
   "execution_count": null,
   "metadata": {},
   "outputs": [],
   "source": [
    "df.info()"
   ]
  },
  {
   "cell_type": "markdown",
   "metadata": {},
   "source": [
    "# 二.提取数据"
   ]
  },
  {
   "cell_type": "markdown",
   "metadata": {},
   "source": [
    "# 2.1根据业务需要提取数据,提取2019年数据 "
   ]
  },
  {
   "cell_type": "code",
   "execution_count": null,
   "metadata": {},
   "outputs": [],
   "source": [
    "#1.引入时间模块, 确定周期时间\n",
    "import datetime\n",
    "startTime = datetime.datetime(2019, 1, 1)\n",
    "endTime = datetime.datetime(2019, 12, 31, 23, 59, 59)\n",
    "#2.将数据源中的时间数据转换成datetime形式 \n",
    "df.orderTime = pd.to_datetime(df.orderTime)\n",
    "df.payTime = pd.to_datetime(df.payTime)"
   ]
  },
  {
   "cell_type": "code",
   "execution_count": null,
   "metadata": {},
   "outputs": [],
   "source": [
    "#3.将2019年1月1日前数据删除\n",
    "df = df[df.orderTime >= startTime or df.payTime >= startTime]\n",
    "#4.将2019年12月31日后数据删除 \n",
    "df = df[df.orderTime <= endTime or df.payTime <= endTime]\n",
    "\n",
    "df.info() #104296 "
   ]
  },
  {
   "cell_type": "markdown",
   "metadata": {},
   "source": [
    "# 2.2提取数据时,处理与业务流程不符合数据,支付时间间隔过长 "
   ]
  },
  {
   "cell_type": "code",
   "execution_count": null,
   "metadata": {
    "scrolled": true
   },
   "outputs": [],
   "source": [
    "#1.下单时间与支付时间间隔 \n",
    "df[times] = df.payTime - df.orderTime\n",
    "#2.支付时间间隔大于30分钟与支付时间早于下单时间 \n",
    "df = df[df.times < 0 or df.times > 30]"
   ]
  },
  {
   "cell_type": "code",
   "execution_count": null,
   "metadata": {},
   "outputs": [],
   "source": [
    "\n",
    "df #103354"
   ]
  },
  {
   "cell_type": "markdown",
   "metadata": {},
   "source": [
    "# 2.3提取数据时,处理与业务流程不符合数据,订单金额与支付金额为负"
   ]
  },
  {
   "cell_type": "code",
   "execution_count": null,
   "metadata": {},
   "outputs": [],
   "source": []
  },
  {
   "cell_type": "code",
   "execution_count": null,
   "metadata": {},
   "outputs": [],
   "source": []
  },
  {
   "cell_type": "markdown",
   "metadata": {},
   "source": [
    "# 三.清洗数据"
   ]
  },
  {
   "cell_type": "markdown",
   "metadata": {},
   "source": [
    "# 3.1 查看数据"
   ]
  },
  {
   "cell_type": "code",
   "execution_count": null,
   "metadata": {
    "scrolled": true
   },
   "outputs": [],
   "source": [
    "df.info()\n",
    "df.describe()"
   ]
  },
  {
   "cell_type": "markdown",
   "metadata": {},
   "source": [
    "# 3.2 清洗orderID"
   ]
  },
  {
   "cell_type": "code",
   "execution_count": null,
   "metadata": {},
   "outputs": [],
   "source": []
  },
  {
   "cell_type": "code",
   "execution_count": null,
   "metadata": {},
   "outputs": [],
   "source": [
    "\n"
   ]
  },
  {
   "cell_type": "markdown",
   "metadata": {},
   "source": [
    "# 3.2 清洗userID "
   ]
  },
  {
   "cell_type": "code",
   "execution_count": null,
   "metadata": {},
   "outputs": [],
   "source": [
    "df.userID.unique().size #78525\n",
    "# df.info() #103321"
   ]
  },
  {
   "cell_type": "markdown",
   "metadata": {},
   "source": [
    "# 3.4 清洗goodsID "
   ]
  },
  {
   "cell_type": "code",
   "execution_count": null,
   "metadata": {
    "scrolled": true
   },
   "outputs": [],
   "source": [
    "\n",
    "df.info() #103146"
   ]
  },
  {
   "cell_type": "markdown",
   "metadata": {},
   "source": [
    "# 3.5 清洗chanelID"
   ]
  },
  {
   "cell_type": "code",
   "execution_count": null,
   "metadata": {},
   "outputs": [],
   "source": [
    "#1.查看chanelID空值\n",
    "df[df.chanelID.isnull()]\n",
    "#2.对空值进行修补  \n",
    "df['chanelID'].fillna(value=df.chanelID.mode()[0], inplace=True)\n",
    "df.info() #103146"
   ]
  },
  {
   "cell_type": "markdown",
   "metadata": {},
   "source": [
    "# 3.6 清洗platformtype "
   ]
  },
  {
   "cell_type": "code",
   "execution_count": null,
   "metadata": {},
   "outputs": [],
   "source": [
    "df.platfromType.unique().size"
   ]
  },
  {
   "cell_type": "code",
   "execution_count": null,
   "metadata": {},
   "outputs": [],
   "source": []
  },
  {
   "cell_type": "markdown",
   "metadata": {},
   "source": [
    "# 3.7 清洗payment "
   ]
  },
  {
   "cell_type": "code",
   "execution_count": null,
   "metadata": {
    "scrolled": true
   },
   "outputs": [],
   "source": [
    "#1.创建折扣字段 \n",
    " \n",
    "#2.平均折扣\n",
    "\n",
    "#3.找到折扣大于1的数据\n",
    "\n",
    "#4.对折扣大于1的数据进行填补 \n",
    "\n",
    "#5.处理折扣 \n",
    "\n",
    "# df.info() #103146"
   ]
  },
  {
   "cell_type": "markdown",
   "metadata": {},
   "source": [
    "# 3.8清洗结束 查看数据"
   ]
  },
  {
   "cell_type": "code",
   "execution_count": null,
   "metadata": {},
   "outputs": [],
   "source": [
    "df.describe()"
   ]
  },
  {
   "cell_type": "markdown",
   "metadata": {},
   "source": [
    "# 至此以后,开始分析"
   ]
  },
  {
   "cell_type": "markdown",
   "metadata": {},
   "source": [
    "# 四.分析数据"
   ]
  },
  {
   "cell_type": "markdown",
   "metadata": {},
   "source": [
    "# 4.1.分析数据,整体销售情况"
   ]
  },
  {
   "cell_type": "code",
   "execution_count": null,
   "metadata": {},
   "outputs": [],
   "source": [
    "#总体概览 \n",
    "# 双十一 销售额  1 ,\n",
    "# 瑞幸 \n",
    "# 1.销售GMV\n",
    "   pass                  # 成交金额10835.088383万\n",
    "# # # 2.成交总和\n",
    "df.payment.sum()/10000 #销售额10246.203461009496万\n",
    "# # # 3.实际成交额 \n",
    "   pass   #实际销售额8879.671990372466万\n",
    "# # # 4.订单数量\n",
    "   pass #成单数 103146数\n",
    "# # # 5.退货订单数\n",
    " pass  #实际成单89554 \n",
    "# # # 6.退货率 \n",
    " pass  \n",
    "# # 7.用户数\n",
    "df.userID.unique().size #78525"
   ]
  },
  {
   "cell_type": "markdown",
   "metadata": {},
   "source": [
    "# 4.2销售情况,各月份GMV\\成交额趋势"
   ]
  },
  {
   "cell_type": "code",
   "execution_count": null,
   "metadata": {},
   "outputs": [],
   "source": []
  },
  {
   "cell_type": "code",
   "execution_count": null,
   "metadata": {},
   "outputs": [],
   "source": [
    "#翻转维度，以月份为坐标轴 \n",
    "#1.月份\n",
    "# df.字段名  获取字段数据   df ['字段名'] 写入数据\n",
    "df['month'] = df['orderTime'].dt.month\n",
    "df\n",
    "#2.绘制图\n",
    "#可视化 必备功课, 分析 \n",
    "import matplotlib.pyplot as plt\n",
    "from matplotlib import font_manager\n",
    "%matplotlib inline\n",
    "# mac fc-list : lang =zh\n",
    "my_font = font_manager.FontProperties(fname='C:\\Windows\\Fonts\\msyh.ttc',size=12)\n",
    "#图像大小 \n",
    "plt.figure(figsize=(15,9))\n",
    "\n",
    "plt.grid(alpha=0.4)\n",
    "\n",
    "#GMV \n",
    "x = df.groupby('month')['orderAmount'].sum().index \n",
    "x \n",
    "y1 = df.groupby('month')['orderAmount'].sum().values/10000\n",
    "# #销售实际付款 \n",
    "y2 = df.groupby('month')['payment'].sum().values/10000\n",
    "# #不含退单销售额 \n",
    "y3 = df[df.chargeback==\"否\"].groupby('month')['payment'].sum().values/10000\n",
    "x_ticks_label = [\"{}月份\".format(i) for i in x]\n",
    "plt.xticks(x,x_ticks_label,rotation = 45,fontproperties = my_font)\n",
    "\n",
    "# plot \n",
    "plt.plot(x,y1,label='GMV',color=\"red\",marker='o')\n",
    "plt.plot(x,y2,label='销售额',color=\"orange\",marker='*')\n",
    "plt.plot(x,y3,label='不含退单',color=\"blue\",marker = '.')\n",
    "\n",
    "plt.xlabel('月份',fontproperties=my_font)\n",
    "plt.ylabel(\"销售额万元\",fontproperties=my_font)\n",
    "plt.title('销售额走势',fontproperties=my_font,color='red',size=20)\n",
    "#折点 添加坐标 \n",
    "for a,b in zip(x,y1):\n",
    "    plt.annotate('(%.2f)'%(b),xy=(a,b),xytext=(-10,10),textcoords='offset points')\n",
    "#图例\n",
    "plt.legend(prop=my_font,loc='upper left')\n",
    "plt.show()"
   ]
  },
  {
   "cell_type": "markdown",
   "metadata": {},
   "source": [
    "# 4.3 流量渠道来源分析"
   ]
  },
  {
   "cell_type": "code",
   "execution_count": null,
   "metadata": {
    "scrolled": true
   },
   "outputs": [],
   "source": [
    "# color red #223344 rgb(0,0,0)\n",
    "   pass \n",
    "plt.rcParams['font.sans-serif']=['SimHei']\n",
    "custom.plot.pie(figsize=(20,9),labels=custom.index,autopct=\"%1.1f%%\")\n",
    "plt.title('各渠道来源用户占比') "
   ]
  },
  {
   "cell_type": "markdown",
   "metadata": {},
   "source": [
    "# 4.4 用户行为, 研究周一到周日哪天订单量最高"
   ]
  },
  {
   "cell_type": "code",
   "execution_count": null,
   "metadata": {},
   "outputs": [],
   "source": [
    "df"
   ]
  },
  {
   "cell_type": "code",
   "execution_count": null,
   "metadata": {},
   "outputs": [],
   "source": [
    "#1.处理周几字段\n",
    "#0对应周一\n",
    "pass \n",
    "df['dayofweek'].unique()\n",
    "df"
   ]
  },
  {
   "cell_type": "code",
   "execution_count": null,
   "metadata": {
    "scrolled": true
   },
   "outputs": [],
   "source": [
    "\n",
    "#2.引入numpy   \n",
    "import numpy as np\n",
    "#3.按周计算每天的订单数\n",
    "pass\n",
    "week\n",
    "# #0是周一 \n",
    "weekX = ['周一','周二','周三','周四','周五','周六','周日']\n",
    "\n",
    "weekY = week.values\n",
    "plt.xticks(range(len(weekX)),weekX,fontproperties=my_font) \n",
    "#柱状图\\条形图 \n",
    "rects = plt.bar(range(len(weekX)),weekY,width=0.3,color=['r','g','b','r','g','b']) \n",
    "\n",
    "for rect in rects:\n",
    "    height = rect.get_height()\n",
    "    plt.text(rect.get_x() + rect.get_width() / 2, height+0.5, str(height),ha=\"center\")\n",
    "plt.show()"
   ]
  },
  {
   "cell_type": "markdown",
   "metadata": {},
   "source": [
    "# 4.5 用户行为, 哪个时间段下单量最高"
   ]
  },
  {
   "cell_type": "code",
   "execution_count": null,
   "metadata": {},
   "outputs": [],
   "source": [
    "df1 = df.copy()\n",
    "df1['orderTime'] = df1['orderTime'].dt.time\n",
    "df1 "
   ]
  },
  {
   "cell_type": "code",
   "execution_count": null,
   "metadata": {},
   "outputs": [],
   "source": []
  },
  {
   "cell_type": "code",
   "execution_count": null,
   "metadata": {},
   "outputs": [],
   "source": [
    "\n",
    "tiemdf = df1.groupby('orderTime')['orderID'].count()\n",
    "\n",
    "plt.figure(figsize=(20,8),dpi=80)\n",
    "s = df1['orderTime'].dt.floor('30T')\n",
    "df1['orderTime'] = s.dt.strftime('%H:%M') + '-' + (s + pd.Timedelta(29 * 60, unit='s')).dt.strftime('%H:%M')\n",
    "tiemdf = df1.groupby('orderTime')['orderID'].count()\n",
    "tiemdf\n",
    "tiemdfX = tiemdf.index\n",
    "tiemdfY = tiemdf.values\n",
    "tiemdfY\n",
    "plt.style.use('ggplot')\n",
    "plt.xticks(range(len(tiemdfX)),tiemdfX,rotation=90)\n",
    "rect = plt.bar(tiemdfX,tiemdfY,width=0.3,color=['orange']) \n"
   ]
  },
  {
   "cell_type": "markdown",
   "metadata": {},
   "source": [
    "# 4.6用户行为,客户情况 "
   ]
  },
  {
   "cell_type": "code",
   "execution_count": null,
   "metadata": {},
   "outputs": [],
   "source": [
    "#1.客单价 \n",
    "df.orderAmount.sum()/df.userID.unique().size "
   ]
  },
  {
   "cell_type": "code",
   "execution_count": null,
   "metadata": {},
   "outputs": [],
   "source": [
    "#2.处理一下userID字段,后期要作为索引\n",
    "df['userid'] = df[\"userID\"].str[0:4] \n",
    "df['userid'].unique()\n",
    "#3.userID只保留数字\n",
    "df['userID'] = df[\"userID\"].str[5:] \n",
    "df"
   ]
  },
  {
   "cell_type": "markdown",
   "metadata": {},
   "source": [
    "# 4.7用户行为,客户复购率 "
   ]
  },
  {
   "cell_type": "code",
   "execution_count": null,
   "metadata": {},
   "outputs": [],
   "source": [
    "# 分析复购率和回购率\n",
    "# 首先将用户消费数据进行数据透视。\n",
    "# 希望统计每个用户在每月的订单量，所以userID是index，month是column。\n",
    "pass\n",
    "\n",
    "pivoted_counts.head()"
   ]
  },
  {
   "cell_type": "code",
   "execution_count": null,
   "metadata": {
    "scrolled": true
   },
   "outputs": [],
   "source": [
    "#复购率\n",
    "\n",
    "# 复购率的定义是在某时间窗口内消费两次及以上的用户在总消费用户中占比。这里的时间窗口是月，如果一个用户在同一天下了两笔订单，这里也将他算作复购用户。\n",
    "\n",
    "# 将数据转换一下，消费两次及以上记为1，消费一次记为0，没有消费记为NaN。\n",
    "# if x>1 :\n",
    "#     x = 1 \n",
    "# else :\n",
    "#    if x==0:\n",
    "#     np.NaN \n",
    "#    else :\n",
    "#      0\n",
    "import numpy as np\n",
    "\n",
    "pass\n",
    "\n",
    "pcRepeatBuy.head()\n",
    "(pcRepeatBuy.sum()/pcRepeatBuy.count()).plot(figsize=(20,9))\n",
    "#用sum和count相除即可计算出复购率。count是总的消费用户数，sum是两次以上的消费用户数。\n",
    "# 3%  100  3\n"
   ]
  },
  {
   "cell_type": "markdown",
   "metadata": {},
   "source": [
    "# 4.8用户行为,客户RFM模型"
   ]
  },
  {
   "cell_type": "code",
   "execution_count": null,
   "metadata": {},
   "outputs": [],
   "source": [
    "#复制df数据\n",
    "customdf = df.copy() \n",
    "customdf.drop(index=df[df.chargeback == '是'].index, inplace=True)\n",
    "customdf\n",
    "customdf['orderTime'] = pd.to_datetime(customdf['orderTime'], format='%Y-%m-%d') # 将字符串转换为日期格式\n",
    "customdf\n",
    "# customdf.set_index('userID',drop=False,inplace=True) \n",
    "# customdf\n",
    "customdf.set_index('userID',drop=True,inplace=True) \n",
    "customdf['orders'] = 1 #计算原始订单频率\n",
    "customdf\n",
    "rfmdf = customdf.pivot_table(index=['userID'],\n",
    "                    values=['orderAmount','orderTime','orders'],\n",
    "                    aggfunc={'orderTime':'max',\n",
    "                            'orderAmount':'sum',\n",
    "                            'orders':'sum'})\n",
    "# rfmdf\n",
    "rfmdf['R'] = (rfmdf.orderTime.max()-rfmdf.orderTime).dt.days\n",
    "\n",
    "# #重命名列名\n",
    "rfmdf.rename(columns={'orderAmount':'M','orders':'F'},inplace=True)\n",
    "rfmdf.head()"
   ]
  },
  {
   "cell_type": "code",
   "execution_count": null,
   "metadata": {},
   "outputs": [],
   "source": [
    "rfmdf[['R','F','M']].apply(lambda x:x-x.mean())\n",
    "# 对用户分类，设置标签\n",
    "def rfm_func(x):\n",
    "    level = x.apply(lambda x: \"1\" if x >= 1 else '0')\n",
    "    label = level.R + level.F + level.M\n",
    "    d = {\n",
    "        '111':'重要价值客户',\n",
    "        '011':'重要保持客户',\n",
    "        '101':'重要发展客户',\n",
    "        '001':'重要挽留客户',\n",
    "        '110':'一般价值客户',\n",
    "        '010':'一般保持客户',\n",
    "        '100':'一般发展客户',\n",
    "        '000':'一般挽留客户'\n",
    "    }\n",
    "    result = d[label]\n",
    "    return result\n",
    "\n",
    "rfmdf['label'] =  pass \n",
    "rfmdf.groupby('label').count()"
   ]
  },
  {
   "cell_type": "code",
   "execution_count": null,
   "metadata": {},
   "outputs": [],
   "source": [
    "rfmdf.label.value_counts().plot.bar(figsize=(20,9))\n",
    "plt.xticks(rotation=0,fontproperties=my_font)"
   ]
  },
  {
   "cell_type": "code",
   "execution_count": null,
   "metadata": {},
   "outputs": [],
   "source": []
  }
 ],
 "metadata": {
  "kernelspec": {
   "display_name": "Python 3 (ipykernel)",
   "language": "python",
   "name": "python3"
  },
  "language_info": {
   "codemirror_mode": {
    "name": "ipython",
    "version": 3
   },
   "file_extension": ".py",
   "mimetype": "text/x-python",
   "name": "python",
   "nbconvert_exporter": "python",
   "pygments_lexer": "ipython3",
   "version": "3.9.7"
  }
 },
 "nbformat": 4,
 "nbformat_minor": 2
}
