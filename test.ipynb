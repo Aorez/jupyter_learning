{
 "cells": [
  {
   "cell_type": "code",
   "execution_count": 1,
   "id": "35a232b1",
   "metadata": {},
   "outputs": [
    {
     "name": "stdout",
     "output_type": "stream",
     "text": [
      "<class 'pandas.core.frame.DataFrame'>\n",
      "Int64Index: 104557 entries, 1 to 104557\n",
      "Data columns (total 10 columns):\n",
      " #   Column        Non-Null Count   Dtype         \n",
      "---  ------        --------------   -----         \n",
      " 0   orderID       104557 non-null  object        \n",
      " 1   userID        104557 non-null  object        \n",
      " 2   goodsID       104557 non-null  object        \n",
      " 3   orderAmount   104557 non-null  float64       \n",
      " 4   payment       104557 non-null  float64       \n",
      " 5   chanelID      104549 non-null  object        \n",
      " 6   platfromType  104557 non-null  object        \n",
      " 7   orderTime     104557 non-null  datetime64[ns]\n",
      " 8   payTime       104557 non-null  datetime64[ns]\n",
      " 9   chargeback    104557 non-null  object        \n",
      "dtypes: datetime64[ns](2), float64(2), object(6)\n",
      "memory usage: 8.8+ MB\n"
     ]
    }
   ],
   "source": [
    "import pandas as pd \n",
    "\n",
    "df = pd.read_excel('order2019.xlsx',index_col='id')\n",
    "\n",
    "df.info()"
   ]
  },
  {
   "cell_type": "code",
   "execution_count": 2,
   "id": "d88d7aad",
   "metadata": {},
   "outputs": [],
   "source": [
    "#1.引入时间模块, 确定周期时间\n",
    "import datetime\n",
    "startTime = datetime.datetime(2019, 1, 1)\n",
    "endTime = datetime.datetime(2019, 12, 31, 23, 59, 59)\n",
    "#2.将数据源中的时间数据转换成datetime形式 \n",
    "df.orderTime = pd.to_datetime(df.orderTime)\n",
    "df.payTime = pd.to_datetime(df.payTime)"
   ]
  },
  {
   "cell_type": "code",
   "execution_count": 1,
   "id": "14f9fc11",
   "metadata": {},
   "outputs": [
    {
     "ename": "NameError",
     "evalue": "name 'df' is not defined",
     "output_type": "error",
     "traceback": [
      "\u001b[1;31m---------------------------------------------------------------------------\u001b[0m",
      "\u001b[1;31mNameError\u001b[0m                                 Traceback (most recent call last)",
      "\u001b[1;32m~\\AppData\\Local\\Temp/ipykernel_18068/2648221888.py\u001b[0m in \u001b[0;36m<module>\u001b[1;34m\u001b[0m\n\u001b[0;32m      1\u001b[0m \u001b[1;31m#3.将2019年1月1日前数据删除\u001b[0m\u001b[1;33m\u001b[0m\u001b[1;33m\u001b[0m\u001b[0m\n\u001b[1;32m----> 2\u001b[1;33m \u001b[0mdf\u001b[0m \u001b[1;33m=\u001b[0m \u001b[0mdf\u001b[0m\u001b[1;33m[\u001b[0m\u001b[0mdf\u001b[0m\u001b[1;33m.\u001b[0m\u001b[0morderTime\u001b[0m \u001b[1;33m>=\u001b[0m \u001b[0mstartTime\u001b[0m\u001b[1;33m]\u001b[0m\u001b[1;33m\u001b[0m\u001b[1;33m\u001b[0m\u001b[0m\n\u001b[0m\u001b[0;32m      3\u001b[0m \u001b[1;31m#4.将2019年12月31日后数据删除\u001b[0m\u001b[1;33m\u001b[0m\u001b[1;33m\u001b[0m\u001b[0m\n\u001b[0;32m      4\u001b[0m \u001b[0mdf\u001b[0m \u001b[1;33m=\u001b[0m \u001b[0mdf\u001b[0m\u001b[1;33m[\u001b[0m\u001b[0mdf\u001b[0m\u001b[1;33m.\u001b[0m\u001b[0morderTime\u001b[0m \u001b[1;33m<=\u001b[0m \u001b[0mendTime\u001b[0m\u001b[1;33m]\u001b[0m\u001b[1;33m\u001b[0m\u001b[1;33m\u001b[0m\u001b[0m\n\u001b[0;32m      5\u001b[0m \u001b[1;33m\u001b[0m\u001b[0m\n",
      "\u001b[1;31mNameError\u001b[0m: name 'df' is not defined"
     ]
    }
   ],
   "source": [
    "#3.将2019年1月1日前数据删除\n",
    "df = df[df.orderTime >= startTime]\n",
    "#4.将2019年12月31日后数据删除 \n",
    "df = df[df.orderTime <= endTime]\n",
    "\n",
    "df.info() #104296 "
   ]
  },
  {
   "cell_type": "code",
   "execution_count": null,
   "id": "89957470",
   "metadata": {},
   "outputs": [],
   "source": [
    "#1.下单时间与支付时间间隔 \n",
    "df[times] = df.payTime - df.orderTime\n",
    "#2.支付时间间隔大于30分钟与支付时间早于下单时间 \n",
    "print(df[times])"
   ]
  },
  {
   "cell_type": "code",
   "execution_count": null,
   "id": "0cedef28",
   "metadata": {},
   "outputs": [],
   "source": []
  }
 ],
 "metadata": {
  "kernelspec": {
   "display_name": "Python 3 (ipykernel)",
   "language": "python",
   "name": "python3"
  },
  "language_info": {
   "codemirror_mode": {
    "name": "ipython",
    "version": 3
   },
   "file_extension": ".py",
   "mimetype": "text/x-python",
   "name": "python",
   "nbconvert_exporter": "python",
   "pygments_lexer": "ipython3",
   "version": "3.9.7"
  }
 },
 "nbformat": 4,
 "nbformat_minor": 5
}
